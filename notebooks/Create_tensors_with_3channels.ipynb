{
 "cells": [
  {
   "cell_type": "code",
   "execution_count": 1,
   "id": "14028cf7-3b8c-4bfc-a067-975e00def948",
   "metadata": {},
   "outputs": [],
   "source": [
    "import numpy as np\n",
    "import os\n",
    "from tqdm import tqdm\n",
    "import sys\n",
    "from pathlib import Path\n",
    "\n",
    "from PIL import Image\n",
    "from datetime import datetime\n",
    "\n",
    "\n",
    "# Set up paths\n",
    "NOTEBOOK_DIR = Path.cwd()\n",
    "SRC_DIR = NOTEBOOK_DIR.parent / \"src\"\n",
    "sys.path.append(str(SRC_DIR))\n",
    "\n",
    "# Import the shared paths\n",
    "from paths import (\n",
    "    HOURLY_GREYSCALE_IMAGES_DIR,\n",
    "    HOURLY_TENSORS_SEASONALITY\n",
    ")"
   ]
  },
  {
   "cell_type": "code",
   "execution_count": 2,
   "id": "80fd66ac-af53-4769-bfa5-42a1ac82ba0c",
   "metadata": {},
   "outputs": [],
   "source": [
    "def get_seasonality_encoding(day_of_year):\n",
    "    radians = 2 * np.pi * day_of_year / 365.0\n",
    "    return np.sin(radians), np.cos(radians)"
   ]
  },
  {
   "cell_type": "code",
   "execution_count": 21,
   "id": "5e6b9da0-5861-4a2f-8dc8-3cb1338161ef",
   "metadata": {},
   "outputs": [],
   "source": [
    "def create_hourly_tensors_from_grayscale(site_name):\n",
    "    \"\"\"\n",
    "    Generate 3D tensors from grayscale PNG heatmaps and add sin/cos encoding of day-of-year.\n",
    "    Output tensors have shape (79, 168, 3): [grayscale heatmap, sin(doy), cos(doy)]\n",
    "    \"\"\"\n",
    "    input_dir = os.path.join(HOURLY_GREYSCALE_IMAGES_DIR, site_name)\n",
    "    output_dir = os.path.join(NOTEBOOK_DIR.parent / HOURLY_TENSORS_SEASONALITY, site_name)\n",
    "    os.makedirs(output_dir, exist_ok=True)\n",
    "\n",
    "    for filename in tqdm(sorted(os.listdir(input_dir))):\n",
    "        if not filename.endswith('.png'):\n",
    "            continue\n",
    "\n",
    "        try:\n",
    "            day_str, hour_str = filename.replace('.png', '').split('_hour_')\n",
    "            date_obj = datetime.strptime(day_str, \"%Y-%m-%d\")\n",
    "            day_of_year = date_obj.timetuple().tm_yday\n",
    "            hour = int(hour_str)\n",
    "        except Exception as e:\n",
    "            print(f\"Skipping {filename}: bad name format\")\n",
    "            continue\n",
    "\n",
    "        image_path = os.path.join(input_dir, filename)\n",
    "        img = Image.open(image_path).convert('L')\n",
    "        \n",
    "        # Resize to height=79 and proportionally scale width, 79 because this is the number of altitudes values \n",
    "        width_orig, height_orig = img.size\n",
    "        new_height = 79\n",
    "        new_width = int((width_orig / height_orig) * new_height)\n",
    "        img_resized = img.resize((new_width, new_height), Image.BICUBIC)\n",
    "\n",
    "        img_array = np.array(img_resized).astype(np.float32) / 255.0  # Normalize to [0, 1]\n",
    "        img_array = np.expand_dims(img_array, axis=-1)  # Shape: (H, W, 1)\n",
    "\n",
    "        # Pad or crop width, 168 is the max number of profiles included in a single hourly profile \n",
    "        target_width = 168\n",
    "        if img_array.shape[1] < target_width:\n",
    "            padded = np.zeros((new_height, target_width, 1), dtype=np.float32)\n",
    "            padded[:, :img_array.shape[1], :] = img_array\n",
    "            img_array = padded\n",
    "        else:\n",
    "            img_array = img_array[:, :target_width, :]\n",
    "\n",
    "        # Create seasonal feature layers\n",
    "        sin_doy, cos_doy = get_seasonality_encoding(day_of_year)\n",
    "        sin_layer = np.full((new_height, target_width, 1), sin_doy, dtype=np.float32)\n",
    "        cos_layer = np.full((new_height, target_width, 1), cos_doy, dtype=np.float32)\n",
    "\n",
    "        # Stack all channels\n",
    "        tensor = np.concatenate([img_array, sin_layer, cos_layer], axis=-1)\n",
    "\n",
    "        # Save as .npy\n",
    "        output_path = os.path.join(output_dir, f\"{day_str}_hour_{hour:02d}.npy\")\n",
    "        np.save(output_path, tensor)"
   ]
  },
  {
   "cell_type": "code",
   "execution_count": 23,
   "id": "baabfd7b-6eef-4f59-82d8-460e41653446",
   "metadata": {},
   "outputs": [
    {
     "name": "stderr",
     "output_type": "stream",
     "text": [
      "100%|████████████████████████████████████████| 823/823 [00:04<00:00, 204.94it/s]\n"
     ]
    }
   ],
   "source": [
    "create_hourly_tensors_from_grayscale(site_name=\"OT\")"
   ]
  },
  {
   "cell_type": "code",
   "execution_count": 25,
   "id": "318a5c87-570a-4220-8894-83cf46cb5824",
   "metadata": {},
   "outputs": [
    {
     "name": "stderr",
     "output_type": "stream",
     "text": [
      "100%|██████████████████████████████████████| 1350/1350 [00:06<00:00, 197.73it/s]\n"
     ]
    }
   ],
   "source": [
    "create_hourly_tensors_from_grayscale(site_name=\"ORM\")"
   ]
  },
  {
   "cell_type": "code",
   "execution_count": null,
   "id": "42dcd446-432a-40c2-8236-88bfbb13f0cb",
   "metadata": {},
   "outputs": [],
   "source": []
  }
 ],
 "metadata": {
  "kernelspec": {
   "display_name": "Python 3 (ipykernel)",
   "language": "python",
   "name": "python3"
  },
  "language_info": {
   "codemirror_mode": {
    "name": "ipython",
    "version": 3
   },
   "file_extension": ".py",
   "mimetype": "text/x-python",
   "name": "python",
   "nbconvert_exporter": "python",
   "pygments_lexer": "ipython3",
   "version": "3.12.2"
  }
 },
 "nbformat": 4,
 "nbformat_minor": 5
}
