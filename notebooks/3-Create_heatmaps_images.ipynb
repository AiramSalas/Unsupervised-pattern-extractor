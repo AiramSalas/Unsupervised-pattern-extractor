{
 "cells": [
  {
   "cell_type": "code",
   "execution_count": 1,
   "id": "fab8567e-9556-43fc-9a42-94148eea7abe",
   "metadata": {},
   "outputs": [],
   "source": [
    "import pandas as pd\n",
    "import matplotlib.pyplot as plt\n",
    "import seaborn as sns\n",
    "import numpy as np\n",
    "import os\n",
    "from matplotlib.colors import Normalize\n",
    "from scipy.interpolate import PchipInterpolator\n",
    "from tqdm import tqdm\n",
    "import sys\n",
    "from pathlib import Path\n",
    "\n",
    "#some extra params for graphics\n",
    "%matplotlib inline\n",
    "sns.set(style=\"whitegrid\")\n",
    "plt.rcParams['figure.figsize'] = (12, 6)\n",
    "\n",
    "# Set up paths\n",
    "NOTEBOOK_DIR = Path.cwd()\n",
    "SRC_DIR = NOTEBOOK_DIR.parent / \"src\"\n",
    "sys.path.append(str(SRC_DIR))\n",
    "# Import the shared paths\n",
    "from paths import (\n",
    "    HOURLY_HEATMAPS_DIR,\n",
    "    HOURLY_HEATMAPS_IMAGES_DIR,\n",
    "    HOURLY_GREYSCALE_IMAGES_DIR,\n",
    "    CSV_DIR,\n",
    "    DATAFRAMES_DIR\n",
    ")"
   ]
  },
  {
   "cell_type": "code",
   "execution_count": 2,
   "id": "11864a96-7528-4436-bb07-d2188d62a113",
   "metadata": {},
   "outputs": [],
   "source": [
    "#Load main dataframes\n",
    "df_teide = pd.read_parquet(DATAFRAMES_DIR / \"df_teide_full_Info.parquet\")\n",
    "df_roque = pd.read_parquet(DATAFRAMES_DIR / \"df_roque_full_Info.parquet\")"
   ]
  },
  {
   "cell_type": "code",
   "execution_count": 3,
   "id": "5645ab2f-3031-4fbc-b33f-43dfc60cf8cd",
   "metadata": {},
   "outputs": [],
   "source": [
    "#Create hourly heatmaps, looking to all unique days present in the DataFrame, and then the available hours of that day\n",
    "#So it will create a heatmap for each available hour(int , hour 1, 2 ,3,...)from 0 to 23 within each available day \n",
    "\n",
    "def generate_hourly_heatmaps_unified(df, site_name, mode='color_full',list_filenames=False):\n",
    "    assert mode in ['color_full', 'color_plain', 'grayscale'], \"Invalid mode\"\n",
    "\n",
    "    # Output folder based on mode\n",
    "    output_dirs = {\n",
    "        'color_full': 'hourly_heatmaps',\n",
    "        'color_plain': 'hourly_heatmaps_images',\n",
    "        'grayscale': 'hourly_greyscale_images'\n",
    "    }\n",
    "    output_dir = NOTEBOOK_DIR.parent / output_dirs[mode] / site_name\n",
    "    os.makedirs(output_dir, exist_ok=True)\n",
    "    if list_filenames:\n",
    "        filenames = []\n",
    "        \n",
    "    missings_counts = 0\n",
    "\n",
    "    common_altitudes = np.arange(1600, 25000 + 1, 300)\n",
    "\n",
    "    # Ensure datetime and numeric\n",
    "    df['timestamp_begin'] = pd.to_datetime(df['timestamp_begin'])\n",
    "    df['turbulence_log'] = pd.to_numeric(df['turbulence_log'], errors='coerce')\n",
    "    df = df[df['turbulence_log'].between(-30, 30) | df['turbulence_log'].isna()]\n",
    "\n",
    "    # Interpolate turbulence_log within each profile_id\n",
    "    df['turbulence_log'] = df.groupby('profile_id')['turbulence_log'].transform(\n",
    "        lambda group: group.interpolate(method='linear', limit_direction='both')\n",
    "    )\n",
    "\n",
    "    all_days = df['timestamp_begin'].dt.date.unique()\n",
    "\n",
    "    for current_day in tqdm(sorted(all_days)):\n",
    "        df_day = df[df['timestamp_begin'].dt.date == current_day].copy()\n",
    "        df_day['hour_int'] = df_day['timestamp_begin'].dt.hour\n",
    "\n",
    "        for hour in sorted(df_day['hour_int'].unique()):\n",
    "            df_hour = df_day[df_day['hour_int'] == hour].copy()\n",
    "            profile_ids = df_hour['profile_id'].unique()\n",
    "\n",
    "            if len(profile_ids) < 2:\n",
    "                missings_counts += 1\n",
    "                continue\n",
    "\n",
    "            heatmap_data = np.zeros((len(common_altitudes), len(profile_ids)))\n",
    "            valid_profiles = 0\n",
    "\n",
    "            for i, pid in enumerate(profile_ids):\n",
    "                profile = df_hour[df_hour['profile_id'] == pid].sort_values('altitude')\n",
    "                profile = profile.drop_duplicates(subset='altitude')\n",
    "\n",
    "                if profile['altitude'].nunique() < 10:\n",
    "                    continue\n",
    "\n",
    "                if profile['turbulence_log'].isna().any():\n",
    "                    continue\n",
    "\n",
    "                try:\n",
    "                    f = PchipInterpolator(profile['altitude'], profile['turbulence_log'], extrapolate=False)\n",
    "                    interpolated = f(common_altitudes)\n",
    "\n",
    "                    if np.any(np.isnan(interpolated)):\n",
    "                        interpolated = np.nan_to_num(interpolated, nan=np.nanmean(interpolated))\n",
    "\n",
    "                    heatmap_data[:, valid_profiles] = interpolated\n",
    "                    valid_profiles += 1\n",
    "                except Exception:\n",
    "                    continue\n",
    "\n",
    "            if valid_profiles < 2:\n",
    "                continue\n",
    "\n",
    "            heatmap_data = heatmap_data[:, :valid_profiles]\n",
    "\n",
    "            # Plot\n",
    "            fig, ax = plt.subplots(figsize=(4, 6))\n",
    "\n",
    "            if mode in ['color_full', 'color_plain']:\n",
    "                im = ax.imshow(\n",
    "                    heatmap_data,\n",
    "                    aspect='auto',\n",
    "                    origin='lower',\n",
    "                    extent=[0, heatmap_data.shape[1], common_altitudes[0], common_altitudes[-1]],\n",
    "                    cmap='plasma',\n",
    "                    norm=Normalize(vmin=-20, vmax=20)\n",
    "                )\n",
    "            else:  # grayscale\n",
    "                # Normalize to [0, 1]\n",
    "                gray_data = np.clip((heatmap_data + 20) / 40, 0, 1)\n",
    "                im = ax.imshow(\n",
    "                    gray_data,\n",
    "                    aspect='auto',\n",
    "                    origin='lower',\n",
    "                    cmap='gray',\n",
    "                    vmin=0,\n",
    "                    vmax=1\n",
    "                )\n",
    "\n",
    "            if mode == 'color_full':\n",
    "                ax.set_title(f\"{current_day} - {hour:02d}:00 - {site_name}\")\n",
    "                ax.set_xlabel(\"Profiles in hour\")\n",
    "                ax.set_ylabel(\"Altitude (m)\")\n",
    "                plt.colorbar(im, ax=ax, label=\"Turbulence log\")\n",
    "            else:\n",
    "                ax.axis('off')\n",
    "\n",
    "            filename = f\"{current_day}_hour_{hour:02d}.png\"\n",
    "            filepath = os.path.join(output_dir, filename)\n",
    "            if list_filenames:\n",
    "                filenames.append(filename.replace('.png', ''))\n",
    "\n",
    "            plt.tight_layout()\n",
    "            plt.savefig(filepath, bbox_inches='tight', pad_inches=0 if mode != 'color_full' else 0.1)\n",
    "            plt.close()\n",
    "\n",
    "    print(\"missings count =\", missings_counts)\n",
    "    if list_filenames:\n",
    "        return filenames"
   ]
  },
  {
   "cell_type": "markdown",
   "id": "e5a147f9-a8a3-48a2-9e37-f99bdc463278",
   "metadata": {},
   "source": [
    "#### To generate heatmaps can have a high operational cost in terms of time mainly, it depends on the hardware of the machine where it's executed. \n",
    "#### Check times with progress bar info when running it, or do it one by one.\n",
    "\n",
    "#### Images already added to the repository, but in case that you want to give a try it is a one time task"
   ]
  },
  {
   "cell_type": "code",
   "execution_count": 5,
   "id": "73426598-dd54-4d3e-9b18-1f8d5864691d",
   "metadata": {},
   "outputs": [
    {
     "name": "stderr",
     "output_type": "stream",
     "text": [
      "100%|█████████████████████████████████████████| 163/163 [09:28<00:00,  3.49s/it]"
     ]
    },
    {
     "name": "stdout",
     "output_type": "stream",
     "text": [
      "missings count = 3\n"
     ]
    },
    {
     "name": "stderr",
     "output_type": "stream",
     "text": [
      "\n"
     ]
    }
   ],
   "source": [
    "# 1. Full color heatmaps with titles, axes, and colorbar\n",
    "filenames_teide = generate_hourly_heatmaps_unified(\n",
    "    df_teide, site_name=\"OT\", mode=\"color_full\", list_filenames=True\n",
    ")"
   ]
  },
  {
   "cell_type": "code",
   "execution_count": 6,
   "id": "7a3a4bd0-2b2b-49f6-8e91-6d417fd646db",
   "metadata": {},
   "outputs": [
    {
     "name": "stderr",
     "output_type": "stream",
     "text": [
      "100%|█████████████████████████████████████████| 236/236 [23:18<00:00,  5.92s/it]"
     ]
    },
    {
     "name": "stdout",
     "output_type": "stream",
     "text": [
      "missings count = 4\n"
     ]
    },
    {
     "name": "stderr",
     "output_type": "stream",
     "text": [
      "\n"
     ]
    }
   ],
   "source": [
    "filenames_roque = generate_hourly_heatmaps_unified(\n",
    "    df_roque, site_name=\"ORM\", mode=\"color_full\",list_filenames=True\n",
    ")"
   ]
  },
  {
   "cell_type": "code",
   "execution_count": 7,
   "id": "01f3387e-5b4d-476d-b36e-2495ba9a9e98",
   "metadata": {},
   "outputs": [
    {
     "name": "stderr",
     "output_type": "stream",
     "text": [
      "100%|█████████████████████████████████████████| 163/163 [06:54<00:00,  2.54s/it]\n"
     ]
    },
    {
     "name": "stdout",
     "output_type": "stream",
     "text": [
      "missings count = 3\n"
     ]
    },
    {
     "name": "stderr",
     "output_type": "stream",
     "text": [
      "100%|█████████████████████████████████████████| 236/236 [16:40<00:00,  4.24s/it]"
     ]
    },
    {
     "name": "stdout",
     "output_type": "stream",
     "text": [
      "missings count = 4\n"
     ]
    },
    {
     "name": "stderr",
     "output_type": "stream",
     "text": [
      "\n"
     ]
    }
   ],
   "source": [
    "#Then create the other versions\n",
    "# 2. Color heatmaps without titles, axes, or colorbar\n",
    "generate_hourly_heatmaps_unified(df_teide, site_name=\"OT\", mode=\"color_plain\")\n",
    "generate_hourly_heatmaps_unified(df_roque, site_name=\"ORM\", mode=\"color_plain\")"
   ]
  },
  {
   "cell_type": "code",
   "execution_count": 8,
   "id": "a75058b2-2272-4027-8cf2-8f7df7fbad15",
   "metadata": {},
   "outputs": [
    {
     "name": "stderr",
     "output_type": "stream",
     "text": [
      "100%|█████████████████████████████████████████| 163/163 [06:43<00:00,  2.48s/it]\n"
     ]
    },
    {
     "name": "stdout",
     "output_type": "stream",
     "text": [
      "missings count = 3\n"
     ]
    },
    {
     "name": "stderr",
     "output_type": "stream",
     "text": [
      "100%|█████████████████████████████████████████| 236/236 [17:33<00:00,  4.46s/it]"
     ]
    },
    {
     "name": "stdout",
     "output_type": "stream",
     "text": [
      "missings count = 4\n"
     ]
    },
    {
     "name": "stderr",
     "output_type": "stream",
     "text": [
      "\n"
     ]
    }
   ],
   "source": [
    "# 3. Grayscale heatmaps (normalized to [0,1]) without titles, axes, or colorbar\n",
    "generate_hourly_heatmaps_unified(df_teide, site_name=\"OT\", mode=\"grayscale\")\n",
    "generate_hourly_heatmaps_unified(df_roque, site_name=\"ORM\", mode=\"grayscale\")"
   ]
  },
  {
   "cell_type": "code",
   "execution_count": 9,
   "id": "1f2503fb-9ff0-4794-bb31-4f3bac8fd0b2",
   "metadata": {},
   "outputs": [],
   "source": [
    "# Create DataFrames with filenames list from each site and save them as .csv\n",
    "df_filenames_teide = pd.DataFrame(filenames_teide, columns=['file_names'])\n",
    "df_filenames_roque = pd.DataFrame(filenames_roque, columns=['file_names'])"
   ]
  },
  {
   "cell_type": "code",
   "execution_count": 10,
   "id": "812a9229-7cc2-49e4-83d8-b7841d4d4431",
   "metadata": {},
   "outputs": [],
   "source": [
    "df_filenames_teide.to_csv(CSV_DIR / \"tensors_names_teide.csv\", index=False)\n",
    "df_filenames_roque.to_csv(CSV_DIR / \"tensors_names_roque.csv\", index=False)"
   ]
  }
 ],
 "metadata": {
  "kernelspec": {
   "display_name": "Python 3 (ipykernel)",
   "language": "python",
   "name": "python3"
  },
  "language_info": {
   "codemirror_mode": {
    "name": "ipython",
    "version": 3
   },
   "file_extension": ".py",
   "mimetype": "text/x-python",
   "name": "python",
   "nbconvert_exporter": "python",
   "pygments_lexer": "ipython3",
   "version": "3.12.2"
  }
 },
 "nbformat": 4,
 "nbformat_minor": 5
}
